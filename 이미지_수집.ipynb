{
  "nbformat": 4,
  "nbformat_minor": 0,
  "metadata": {
    "colab": {
      "provenance": [],
      "include_colab_link": true
    },
    "kernelspec": {
      "name": "python3",
      "display_name": "Python 3"
    },
    "language_info": {
      "name": "python"
    }
  },
  "cells": [
    {
      "cell_type": "markdown",
      "metadata": {
        "id": "view-in-github",
        "colab_type": "text"
      },
      "source": [
        "<a href=\"https://colab.research.google.com/github/jaspresso/WordCloud/blob/master/%EC%9D%B4%EB%AF%B8%EC%A7%80_%EC%88%98%EC%A7%91.ipynb\" target=\"_parent\"><img src=\"https://colab.research.google.com/assets/colab-badge.svg\" alt=\"Open In Colab\"/></a>"
      ]
    },
    {
      "cell_type": "markdown",
      "source": [
        "### 1. 라이브러리 설치 및 선언"
      ],
      "metadata": {
        "id": "65cgoLTSFxzk"
      }
    },
    {
      "cell_type": "code",
      "source": [
        "!pip install bing-image-downloader==1.1.2"
      ],
      "metadata": {
        "colab": {
          "base_uri": "https://localhost:8080/"
        },
        "id": "P2Nw1qYhhJ_T",
        "outputId": "5fb5f913-48e9-41ef-c44b-f09a3c5ef58a"
      },
      "execution_count": null,
      "outputs": [
        {
          "output_type": "stream",
          "name": "stdout",
          "text": [
            "Collecting bing-image-downloader==1.1.2\n",
            "  Downloading bing_image_downloader-1.1.2-py3-none-any.whl.metadata (2.8 kB)\n",
            "Downloading bing_image_downloader-1.1.2-py3-none-any.whl (5.9 kB)\n",
            "Installing collected packages: bing-image-downloader\n",
            "Successfully installed bing-image-downloader-1.1.2\n"
          ]
        }
      ]
    },
    {
      "cell_type": "code",
      "source": [
        "# !pip show bing-image-downloader==1.1.2"
      ],
      "metadata": {
        "id": "DBu1zkZIdz23",
        "colab": {
          "base_uri": "https://localhost:8080/"
        },
        "outputId": "1511564a-06cd-4f98-9845-73d88aa0e352"
      },
      "execution_count": null,
      "outputs": [
        {
          "output_type": "stream",
          "name": "stdout",
          "text": [
            "\u001b[33mWARNING: Package(s) not found: bing-image-downloader==1.1.2\u001b[0m\u001b[33m\n",
            "\u001b[0m"
          ]
        }
      ]
    },
    {
      "cell_type": "code",
      "source": [
        "from datetime import datetime"
      ],
      "metadata": {
        "id": "8AfFjRnDhW-m"
      },
      "execution_count": null,
      "outputs": []
    },
    {
      "cell_type": "code",
      "source": [
        "# bing_image_downloader라는 라이브러리를 이용하면 bing에서 검색한 결과에 나오는 이미지들을 다운로드할 수 있다.\n",
        "# !pip install bing-image-downloader==1.1.2\n",
        "# os.environ['PYTHONIOENCODING'] = 'utf-8'\n",
        "import os\n",
        "import shutil\n",
        "import random\n",
        "import bing_image_downloader\n",
        "from bing_image_downloader import downloader"
      ],
      "metadata": {
        "id": "lw9d9k-ELP4O"
      },
      "execution_count": null,
      "outputs": []
    },
    {
      "cell_type": "code",
      "source": [
        "# from google.colab import drive\n",
        "# drive.mount(\"/content/gdrive\")"
      ],
      "metadata": {
        "id": "en_upD9CLR-F"
      },
      "execution_count": null,
      "outputs": []
    },
    {
      "cell_type": "code",
      "source": [
        "# %cd /content/gdrive/MyDrive/Colab Notebooks/code2024/Session13 - 객체인식모델 연동실습_yolo"
      ],
      "metadata": {
        "id": "06fPT4MAh9Fl"
      },
      "execution_count": null,
      "outputs": []
    },
    {
      "cell_type": "markdown",
      "source": [
        "### 2. 이미지 다운로드"
      ],
      "metadata": {
        "id": "4rXPAoYaFQb5"
      }
    },
    {
      "cell_type": "code",
      "source": [
        "currentDate = datetime.now()"
      ],
      "metadata": {
        "id": "7JPl8bN_hVcf"
      },
      "execution_count": null,
      "outputs": []
    },
    {
      "cell_type": "code",
      "source": [
        "dateKey = currentDate.strftime(\"%Y%m%d\")"
      ],
      "metadata": {
        "id": "Y673A-pchh_j"
      },
      "execution_count": null,
      "outputs": []
    },
    {
      "cell_type": "code",
      "source": [
        "directory_path = f\"/content/downimg_{dateKey}\"\n",
        "query = \"비타500\"\n",
        "imageCnt = 50\n",
        "timeoutStd = 10\n",
        "# limit에 원하는 이미지 개수를 입력\n",
        "downloader.download(query,\n",
        "                    limit=imageCnt,\n",
        "                    output_dir=directory_path,\n",
        "                    adult_filter_off=True,\n",
        "                    force_replace=False,\n",
        "                    timeout=timeoutStd)"
      ],
      "metadata": {
        "colab": {
          "base_uri": "https://localhost:8080/"
        },
        "collapsed": true,
        "id": "qK8sUcPjIbDV",
        "outputId": "16a455f2-140b-435b-aa5f-69474a14dfcd"
      },
      "execution_count": null,
      "outputs": [
        {
          "output_type": "stream",
          "name": "stdout",
          "text": [
            "[%] Downloading Images to /content/downimg_20240812/비타500\n",
            "\n",
            "\n",
            "[!!]Indexing page: 1\n",
            "\n",
            "[%] Indexed 35 Images on Page 1.\n",
            "\n",
            "===============================================\n",
            "\n",
            "[%] Downloading Image #1 from https://image.homeplus.kr/td/9e4b06ea-6c83-4f74-90fe-0945eccdd329\n",
            "[%] File Downloaded !\n",
            "\n",
            "[%] Downloading Image #2 from http://ekdp.com/upload/product/vita500_new.jpg\n",
            "[!] Issue getting: http://ekdp.com/upload/product/vita500_new.jpg\n",
            "[!] Error:: <urlopen error [SSL: CERTIFICATE_VERIFY_FAILED] certificate verify failed: unable to get local issuer certificate (_ssl.c:1007)>\n",
            "[%] Downloading Image #2 from https://image.homeplus.kr/td/329697ca-832b-4577-89ab-9ef6006cc7ad\n",
            "[%] File Downloaded !\n",
            "\n",
            "[%] Downloading Image #3 from https://img2.quasarzone.com/editor/2023/07/31/e4f272ba1f7e991b7cfeffe9f048d06b.jpg\n",
            "[%] File Downloaded !\n",
            "\n",
            "[%] Downloading Image #4 from http://kor.theasian.asia/wp-content/uploads/2023/05/사진1-1.jpg\n",
            "[!] Issue getting: http://kor.theasian.asia/wp-content/uploads/2023/05/사진1-1.jpg\n",
            "[!] Error:: 'ascii' codec can't encode characters in position 32-33: ordinal not in range(128)\n",
            "[%] Downloading Image #4 from http://localsegye.co.kr/news/data/20210409/p1065583236320123_550_thum.JPG\n",
            "[%] File Downloaded !\n",
            "\n",
            "[%] Downloading Image #5 from https://commerce-cdn.firstservice.kr/upload/0c75a3dd-1677-48a8-9b81-300249d55636.jpg\n",
            "[%] File Downloaded !\n",
            "\n",
            "[%] Downloading Image #6 from https://cdn.esocialtimes.com/news/photo/202209/30424_20765_1413.jpg\n",
            "[%] File Downloaded !\n",
            "\n",
            "[%] Downloading Image #7 from https://3.gall-img.com/tdgall/files/attach/images/82/272/959/315/1cbcad34e135a030ddf4fadb9d995b82.jpg\n",
            "[%] File Downloaded !\n",
            "\n",
            "[%] Downloading Image #8 from https://img.wowtv.co.kr/wowtv_news/dnrs/20221006/B20221006100629737.jpg\n",
            "[%] File Downloaded !\n",
            "\n",
            "[%] Downloading Image #9 from http://i2.media.daumcdn.net/svc/image/U03/news/201506/12/ned/20150612103402916ppgv.jpg\n",
            "[%] File Downloaded !\n",
            "\n",
            "[%] Downloading Image #10 from https://static.megamart.com/product/image/1308/13086077/13086077_1_960.jpg\n",
            "[%] File Downloaded !\n",
            "\n",
            "[%] Downloading Image #11 from https://file.newswire.co.kr/data/datafile2/thumb_480/2007/03/2007032211745486700.39711400.jpg\n",
            "[%] File Downloaded !\n",
            "\n",
            "[%] Downloading Image #12 from https://hookmeup.kr/wp-content/uploads/2023/12/비타500레드크레이지-2.jpg\n",
            "[!] Issue getting: https://hookmeup.kr/wp-content/uploads/2023/12/비타500레드크레이지-2.jpg\n",
            "[!] Error:: 'ascii' codec can't encode characters in position 32-33: ordinal not in range(128)\n",
            "[%] Downloading Image #12 from https://storage.enuri.info/pic_upload/knowbox/mobile_img/202303/2023030813264692127.jpg\n",
            "[%] File Downloaded !\n",
            "\n",
            "[%] Downloading Image #13 from http://cdnimage.ebn.co.kr/news/201907/news_1563324401_993412_main1.jpg\n",
            "[%] File Downloaded !\n",
            "\n",
            "[%] Downloading Image #14 from https://thumbnail3.coupangcdn.com/thumbnails/remote/715x715ex/image/retail/images/355042801232287-3403563d-0910-45c6-8637-fb20e236c1b4.jpg\n",
            "[%] File Downloaded !\n",
            "\n",
            "[%] Downloading Image #15 from http://img.tf.co.kr/article/home/2019/09/13/20192777156838569700.jpg\n",
            "[%] File Downloaded !\n",
            "\n",
            "[%] Downloading Image #16 from https://img.onnada.com/2023/0429/3717964949_d6948873_204143.jpg\n",
            "[!] Issue getting: https://img.onnada.com/2023/0429/3717964949_d6948873_204143.jpg\n",
            "[!] Error:: <urlopen error [SSL: CERTIFICATE_VERIFY_FAILED] certificate verify failed: unable to get local issuer certificate (_ssl.c:1007)>\n",
            "[%] Downloading Image #16 from https://oasisproduct.cdn.ntruss.com/65798/detail/detail_65798_0_31010e42-dd27-4e41-bc3d-08dfa543e416.jpg\n",
            "[%] File Downloaded !\n",
            "\n",
            "[%] Downloading Image #17 from https://img.onnada.com/2023/0429/3717964949_3838f458_182938.jpg\n",
            "[!] Issue getting: https://img.onnada.com/2023/0429/3717964949_3838f458_182938.jpg\n",
            "[!] Error:: <urlopen error [SSL: CERTIFICATE_VERIFY_FAILED] certificate verify failed: unable to get local issuer certificate (_ssl.c:1007)>\n",
            "[%] Downloading Image #17 from https://www.koreadepart.com/data/item/1680670547_l1\n",
            "[!] Issue getting: https://www.koreadepart.com/data/item/1680670547_l1\n",
            "[!] Error:: <urlopen error [SSL: DH_KEY_TOO_SMALL] dh key too small (_ssl.c:1007)>\n",
            "[%] Downloading Image #17 from https://cdn.shopify.com/s/files/1/0454/6818/8823/products/500_3_1000x1000.jpg?v=1668928588\n",
            "[%] File Downloaded !\n",
            "\n",
            "[%] Downloading Image #18 from http://www.seoju.kr/data/product/1025748038_MT840h61_034f98d06e3e7fb04d358fd9e1c41f70683c9ed6.jpg\n",
            "[Error]Invalid image, not saving http://www.seoju.kr/data/product/1025748038_MT840h61_034f98d06e3e7fb04d358fd9e1c41f70683c9ed6.jpg\n",
            "\n",
            "[!] Issue getting: http://www.seoju.kr/data/product/1025748038_MT840h61_034f98d06e3e7fb04d358fd9e1c41f70683c9ed6.jpg\n",
            "[!] Error:: Invalid image, not saving http://www.seoju.kr/data/product/1025748038_MT840h61_034f98d06e3e7fb04d358fd9e1c41f70683c9ed6.jpg\n",
            "\n",
            "[%] Downloading Image #18 from http://file3.instiz.net/data/cached_img/upload/2022/11/26/21/9c71c2f271950845e514fafb9ed95389.jpg\n",
            "[%] File Downloaded !\n",
            "\n",
            "[%] Downloading Image #19 from https://d2gfz7wkiigkmv.cloudfront.net/pickin/2/1/2/Pg0GBRsZQSG50441BrZCUA\n",
            "[%] File Downloaded !\n",
            "\n",
            "[%] Downloading Image #20 from https://cdn.shopify.com/s/files/1/0454/6818/8823/products/500_7_1000x1000.jpg?v=1668928588\n",
            "[%] File Downloaded !\n",
            "\n",
            "[%] Downloading Image #21 from https://daesangtnd.co.kr/design/upload_file/ABS_goods/THUMBNAIL_385_385_678c82adcc4ace035aa6b7d01c94a055_83651_1.jpg\n",
            "[!] Issue getting: https://daesangtnd.co.kr/design/upload_file/ABS_goods/THUMBNAIL_385_385_678c82adcc4ace035aa6b7d01c94a055_83651_1.jpg\n",
            "[!] Error:: <urlopen error [SSL: CERTIFICATE_VERIFY_FAILED] certificate verify failed: certificate has expired (_ssl.c:1007)>\n",
            "[%] Downloading Image #21 from https://image.jtbcplus.kr/data/contents/jam_photo/202209/06/f7bc8f4f-5938-46b1-9cff-fb76da89d7f7.jpg\n",
            "[!] Issue getting: https://image.jtbcplus.kr/data/contents/jam_photo/202209/06/f7bc8f4f-5938-46b1-9cff-fb76da89d7f7.jpg\n",
            "[!] Error:: <urlopen error timed out>\n",
            "[%] Downloading Image #21 from https://img.onnada.com/2023/0429/3717964949_ca6e0745_151028.jpg\n",
            "[!] Issue getting: https://img.onnada.com/2023/0429/3717964949_ca6e0745_151028.jpg\n",
            "[!] Error:: <urlopen error [SSL: CERTIFICATE_VERIFY_FAILED] certificate verify failed: unable to get local issuer certificate (_ssl.c:1007)>\n",
            "[%] Downloading Image #21 from https://dnvefa72aowie.cloudfront.net/origin/article/202208/F2B5CB29FE0E14B8346070F9687CF2579B7A5D235D9F7CA960E7423C263A0CE6.jpg?q=95&amp;s=1440x1440&amp;t=inside\n",
            "[%] File Downloaded !\n",
            "\n",
            "[%] Downloading Image #22 from https://static.1hourmart.kr/data/product/292ae116b28f1109d3733230d411a3ff/c00f395b7c9d4843b2a8e3ab96a32d5d.jpg\n",
            "[%] File Downloaded !\n",
            "\n",
            "[%] Downloading Image #23 from https://image.homeplus.kr/td/2eba4e2c-d839-4929-95eb-93987aa98757\n",
            "[%] File Downloaded !\n",
            "\n",
            "[%] Downloading Image #24 from https://image.homeplus.kr/td/9d85d21e-cf31-40b5-9ab4-5aca30ee9915\n",
            "[%] File Downloaded !\n",
            "\n",
            "[%] Downloading Image #25 from https://docinfo.kr/wp-content/uploads/2020/03/비타500-카페인-7.jpg\n",
            "[!] Issue getting: https://docinfo.kr/wp-content/uploads/2020/03/비타500-카페인-7.jpg\n",
            "[!] Error:: 'ascii' codec can't encode characters in position 32-33: ordinal not in range(128)\n",
            "\n",
            "\n",
            "[!!]Indexing page: 2\n",
            "\n",
            "[%] Indexed 35 Images on Page 2.\n",
            "\n",
            "===============================================\n",
            "\n",
            "\n",
            "\n",
            "[!!]Indexing page: 3\n",
            "\n",
            "[%] Indexed 35 Images on Page 3.\n",
            "\n",
            "===============================================\n",
            "\n",
            "[%] Downloading Image #25 from https://file.mk.co.kr/meet/neds/2012/10/image_readtop_2012_666026_1350290462749128.jpg\n",
            "[%] File Downloaded !\n",
            "\n",
            "\n",
            "\n",
            "[!!]Indexing page: 4\n",
            "\n",
            "[%] Indexed 0 Images on Page 4.\n",
            "\n",
            "===============================================\n",
            "\n",
            "\n",
            "\n",
            "[!!]Indexing page: 5\n",
            "\n",
            "[%] Indexed 35 Images on Page 5.\n",
            "\n",
            "===============================================\n",
            "\n",
            "[%] Downloading Image #26 from https://www.ekdp.com/upload/product/1YaV7zulrQ06eeZqJBThCrpDOaiC6zKqr2f1fC413TIf2KJ0XlbLBcbXtud1biGidWVRGTcah4LjAbcJSDqG.rl2vuof9utsz.jpg\n",
            "[!] Issue getting: https://www.ekdp.com/upload/product/1YaV7zulrQ06eeZqJBThCrpDOaiC6zKqr2f1fC413TIf2KJ0XlbLBcbXtud1biGidWVRGTcah4LjAbcJSDqG.rl2vuof9utsz.jpg\n",
            "[!] Error:: <urlopen error [SSL: CERTIFICATE_VERIFY_FAILED] certificate verify failed: unable to get local issuer certificate (_ssl.c:1007)>\n",
            "[%] Downloading Image #26 from https://img.itssa.co.kr/files/attach/images/2022/12/27/9f6ea7194f7f6349a525ef4d1308c5ba.jpg\n",
            "[%] File Downloaded !\n",
            "\n",
            "[%] Downloading Image #27 from https://social-phinf.pstatic.net/20220414_43/1649927839300Dyhe7_JPEG/240940_02.jpg\n",
            "[%] File Downloaded !\n",
            "\n",
            "[%] Downloading Image #28 from https://thumbnews.nateimg.co.kr/view610/onimg.nate.com/orgImg/sg/2015/04/15/20150415004808_0.jpg\n",
            "[%] File Downloaded !\n",
            "\n",
            "\n",
            "\n",
            "[!!]Indexing page: 6\n",
            "\n",
            "[%] Indexed 35 Images on Page 6.\n",
            "\n",
            "===============================================\n",
            "\n",
            "[%] Downloading Image #29 from https://www.mirae-biz.com/news/photo/202305/86254_83390_438.jpg\n",
            "[%] File Downloaded !\n",
            "\n",
            "[%] Downloading Image #30 from http://webdure.com/bbs4/data/userfeedback/31_FEEVT6360005_DTL.jpg\n",
            "[%] File Downloaded !\n",
            "\n",
            "[%] Downloading Image #31 from https://i.ytimg.com/vi/cdFc8hARb9U/maxresdefault.jpg\n",
            "[%] File Downloaded !\n",
            "\n",
            "[%] Downloading Image #32 from http://postfiles1.naver.net/20151121_288/ampmju77_1448072267100wGvw2_JPEG/201511211117442.jpg?type=w2\n",
            "[%] File Downloaded !\n",
            "\n",
            "[%] Downloading Image #33 from https://www.ekdp.com/upload/product/비타500_310.gif\n",
            "[!] Issue getting: https://www.ekdp.com/upload/product/비타500_310.gif\n",
            "[!] Error:: 'ascii' codec can't encode characters in position 20-21: ordinal not in range(128)\n",
            "[%] Downloading Image #33 from https://contents-cdn.viewus.co.kr/image/2023/12/CP-2023-0069/image-9af74a86-583e-4256-aa01-ee0f1fb134e4.jpeg\n",
            "[%] File Downloaded !\n",
            "\n",
            "[%] Downloading Image #34 from https://cdn.eyesmag.com/content/uploads/posts/2022/09/05/main-7cd66c55-5230-44ec-8371-620b5b02ec21.jpg\n",
            "[%] File Downloaded !\n",
            "\n",
            "[%] Downloading Image #35 from https://thumbnail9.coupangcdn.com/thumbnails/remote/700x700ex/image/vendor_inventory/b3cf/4e1d99f875ce50d3c459668df5c30f5b1857598ee0a64947fd24b4f7d228.jpg\n",
            "[%] File Downloaded !\n",
            "\n",
            "[%] Downloading Image #36 from http://menu.mtn.co.kr/upload/article/2015/04/16/2015041617502976592_00_431.jpg\n",
            "[%] File Downloaded !\n",
            "\n",
            "[%] Downloading Image #37 from https://i.pinimg.com/originals/d1/4a/df/d14adf54083a16f8790a178adfb85f96.png\n",
            "[%] File Downloaded !\n",
            "\n",
            "[%] Downloading Image #38 from http://t1.daumcdn.net/news/201504/16/etnews/20150416032207115.jpeg\n",
            "[%] File Downloaded !\n",
            "\n",
            "[%] Downloading Image #39 from https://image.fmkorea.com/files/attach/new3/20230301/1196365581/4027871990/5539943241/1f87d68f6646df29b4cea218a6257f4d.jpg\n",
            "[%] File Downloaded !\n",
            "\n",
            "[%] Downloading Image #40 from https://image.ajunews.com/content/image/2015/04/15/20150415140825228226.png\n",
            "[%] File Downloaded !\n",
            "\n",
            "[%] Downloading Image #41 from https://img.onnada.com/2020/0606/thumb_162948935374_3f63ed78_112449.jpg\n",
            "[!] Issue getting: https://img.onnada.com/2020/0606/thumb_162948935374_3f63ed78_112449.jpg\n",
            "[!] Error:: <urlopen error [SSL: CERTIFICATE_VERIFY_FAILED] certificate verify failed: unable to get local issuer certificate (_ssl.c:1007)>\n",
            "\n",
            "\n",
            "[!!]Indexing page: 7\n",
            "\n",
            "[%] No more images are available\n",
            "\n",
            "\n",
            "[%] Done. Downloaded 40 images.\n"
          ]
        }
      ]
    },
    {
      "cell_type": "code",
      "source": [
        "### train test 폴더 생성 및 이미지 이동 (참고 라벨링시는 필요 x)"
      ],
      "metadata": {
        "id": "HPt-XM0kid8V"
      },
      "execution_count": null,
      "outputs": []
    },
    {
      "cell_type": "code",
      "source": [
        "# query_list = [\"화재\",\"연기\"]\n",
        "# for query in query_list:\n",
        "#     downloader.download(query,\n",
        "#                         limit=50,\n",
        "#                         output_dir=directory_path,\n",
        "#                         adult_filter_off=True, force_replace=False, timeout=60)"
      ],
      "metadata": {
        "id": "3keV9VDoILgM"
      },
      "execution_count": null,
      "outputs": []
    },
    {
      "cell_type": "code",
      "source": [
        "# downPath = os.path.join(directory_path, query)\n",
        "# # train 및 test 폴더 경로\n",
        "# train_folder = os.path.join(downPath, \"train\")\n",
        "# test_folder = os.path.join(downPath, \"test\")\n",
        "\n",
        "# # /train 및 /test 폴더가 존재하지 않으면 생성\n",
        "# os.makedirs(train_folder, exist_ok=True)\n",
        "# os.makedirs(test_folder, exist_ok=True)\n",
        "\n",
        "# # 이미지 파일 목록 가져오기\n",
        "# images = []\n",
        "# for file in os.listdir(downPath):\n",
        "#     if os.path.isfile(os.path.join(downPath, file)):\n",
        "#         images.append(file)\n",
        "\n",
        "# # 이미지 목록을 섞음 (랜덤으로 선택되도록)\n",
        "# random.shuffle(images)\n",
        "\n",
        "# # 전체 이미지 개수\n",
        "# total_images = len(images)\n",
        "\n",
        "# # 80%와 20% 비율로 나누기\n",
        "# split_index = int(total_images * 0.8)\n",
        "# train_images = images[:split_index]\n",
        "# test_images = images[split_index:]\n",
        "\n",
        "# # 이미지 이동 함수\n",
        "# def move_images(image_list, destination_folder):\n",
        "#     for image in image_list:\n",
        "#         source_path = os.path.join(downPath, image)\n",
        "#         destination_path = os.path.join(destination_folder, image)\n",
        "#         shutil.copy2(source_path, destination_path)\n",
        "#         # 이동 시\n",
        "#         #shutil.move(source_path, destination_path)\n",
        "\n",
        "# # 이미지 복사\n",
        "# move_images(train_images, train_folder)\n",
        "# move_images(test_images, test_folder)"
      ],
      "metadata": {
        "id": "ACB-bYSBPNBn"
      },
      "execution_count": null,
      "outputs": []
    }
  ]
}